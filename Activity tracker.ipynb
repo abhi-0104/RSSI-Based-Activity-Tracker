{
  "cells": [
    {
      "cell_type": "code",
      "execution_count": null,
      "metadata": {
        "id": "Kxp-I2GnYqV9"
      },
      "outputs": [],
      "source": [
        "import pandas as pd\n",
        "import numpy as np\n",
        "from sklearn.model_selection import train_test_split\n",
        "from sklearn.preprocessing import StandardScaler, LabelEncoder\n",
        "from sklearn.metrics import accuracy_score, classification_report, confusion_matrix, ConfusionMatrixDisplay\n",
        "from sklearn.impute import SimpleImputer\n",
        "from scipy.signal import medfilt\n",
        "from imblearn.over_sampling import SMOTE\n",
        "from tensorflow.keras.models import Sequential\n",
        "from tensorflow.keras.layers import LSTM, Dense, Dropout, Conv1D, MaxPooling1D, Flatten\n",
        "from tensorflow.keras.utils import to_categorical\n",
        "import matplotlib.pyplot as plt"
      ]
    },
    {
      "cell_type": "code",
      "execution_count": null,
      "metadata": {
        "id": "oNCm1DsQY4cX"
      },
      "outputs": [],
      "source": [
        "data = pd.read_csv('/content/filtered_data_new.csv')"
      ]
    },
    {
      "cell_type": "code",
      "execution_count": null,
      "metadata": {
        "id": "9iZduGSWY9i0"
      },
      "outputs": [],
      "source": [
        "reshaped_data = pd.DataFrame({\n",
        "    'RSSI': pd.concat([data['Empty Room'], data['RUNNING'], data['SITTING'], data['Walking']]),\n",
        "    'Activity': ['Empty Room'] * len(data) + ['Running'] * len(data) + ['Sitting'] * len(data) + ['Walking'] * len(data)\n",
        "})"
      ]
    },
    {
      "cell_type": "code",
      "execution_count": null,
      "metadata": {
        "id": "REMv_QExY_UQ"
      },
      "outputs": [],
      "source": [
        "smote = SMOTE()\n",
        "X, y = smote.fit_resample(reshaped_data[['RSSI']], reshaped_data['Activity'])"
      ]
    },
    {
      "cell_type": "code",
      "execution_count": null,
      "metadata": {
        "id": "Yczp1SdWZCWZ"
      },
      "outputs": [],
      "source": [
        "reshaped_data['RSSI'] = medfilt(reshaped_data['RSSI'], kernel_size=3)"
      ]
    },
    {
      "cell_type": "code",
      "execution_count": null,
      "metadata": {
        "id": "yofAZP2hZEn-"
      },
      "outputs": [],
      "source": [
        "imputer = SimpleImputer(strategy='median')\n",
        "reshaped_data['RSSI'] = imputer.fit_transform(reshaped_data[['RSSI']])"
      ]
    },
    {
      "cell_type": "code",
      "execution_count": null,
      "metadata": {
        "id": "r7_a1W5UZGYm"
      },
      "outputs": [],
      "source": [
        "label_encoder = LabelEncoder()\n",
        "y_encoded = label_encoder.fit_transform(reshaped_data['Activity'])\n",
        "y_encoded = to_categorical(y_encoded)"
      ]
    },
    {
      "cell_type": "code",
      "execution_count": null,
      "metadata": {
        "id": "Pr5JnbMTZJ89"
      },
      "outputs": [],
      "source": [
        "def create_sequences(X, y, time_steps=5):\n",
        "    Xs, ys = [], []\n",
        "    for i in range(len(X) - time_steps):\n",
        "        Xs.append(X[i:i + time_steps])\n",
        "        ys.append(y[i + time_steps])\n",
        "    return np.array(Xs), np.array(ys)\n"
      ]
    },
    {
      "cell_type": "code",
      "execution_count": 131,
      "metadata": {
        "id": "QPi7OkPUZMOH"
      },
      "outputs": [],
      "source": [
        "time_steps = 10\n",
        "X_sequences, y_sequences = create_sequences(X, y_encoded, time_steps)\n"
      ]
    },
    {
      "cell_type": "code",
      "execution_count": 132,
      "metadata": {
        "id": "PSyrkDNeZN0Y"
      },
      "outputs": [],
      "source": [
        "X_train, X_test, y_train, y_test = train_test_split(X_sequences, y_sequences, test_size=0.2, random_state=42)\n",
        "X_train, X_val, y_train, y_val = train_test_split(X_train, y_train, test_size=0.1, random_state=42)"
      ]
    },
    {
      "cell_type": "code",
      "execution_count": 133,
      "metadata": {
        "id": "aBzqffCwZQQu"
      },
      "outputs": [],
      "source": [
        "scaler = StandardScaler()\n",
        "X_train = scaler.fit_transform(X_train.reshape(-1, X_train.shape[-1])).reshape(X_train.shape)\n",
        "X_test = scaler.transform(X_test.reshape(-1, X_test.shape[-1])).reshape(X_test.shape)\n",
        "X_val = scaler.transform(X_val.reshape(-1, X_val.shape[-1])).reshape(X_val.shape)"
      ]
    },
    {
      "cell_type": "code",
      "execution_count": 134,
      "metadata": {
        "colab": {
          "base_uri": "https://localhost:8080/"
        },
        "id": "nehXE43xZSe6",
        "outputId": "a319aac4-dc23-442e-b020-ea8fd7918cf9"
      },
      "outputs": [
        {
          "output_type": "stream",
          "name": "stderr",
          "text": [
            "/usr/local/lib/python3.10/dist-packages/keras/src/layers/convolutional/base_conv.py:107: UserWarning: Do not pass an `input_shape`/`input_dim` argument to a layer. When using Sequential models, prefer using an `Input(shape)` object as the first layer in the model instead.\n",
            "  super().__init__(activity_regularizer=activity_regularizer, **kwargs)\n"
          ]
        }
      ],
      "source": [
        "model = Sequential()\n",
        "\n",
        "# 1D Convolutional Layer\n",
        "model.add(Conv1D(filters=64, kernel_size=3, activation='relu', input_shape=(X_train.shape[1], X_train.shape[2])))\n",
        "model.add(MaxPooling1D(pool_size=2))"
      ]
    },
    {
      "cell_type": "code",
      "execution_count": 135,
      "metadata": {
        "id": "1WP_QK98ZVEP"
      },
      "outputs": [],
      "source": [
        "model.add(LSTM(128, return_sequences=True))\n",
        "model.add(Dropout(0.3))\n",
        "\n",
        "model.add(LSTM(64))\n",
        "model.add(Dropout(0.3))\n"
      ]
    },
    {
      "cell_type": "code",
      "execution_count": 136,
      "metadata": {
        "id": "mWgPsVwJZXIB"
      },
      "outputs": [],
      "source": [
        "model.add(Dense(32, activation='relu'))\n",
        "model.add(Dense(4, activation='sigmoid'))"
      ]
    },
    {
      "cell_type": "code",
      "execution_count": 137,
      "metadata": {
        "colab": {
          "base_uri": "https://localhost:8080/"
        },
        "id": "20xvO-djZZpE",
        "outputId": "2dd63083-7590-4fa0-a536-caf97fb4893d"
      },
      "outputs": [
        {
          "output_type": "stream",
          "name": "stdout",
          "text": [
            "Epoch 1/50\n",
            "217/217 - 31s - 143ms/step - accuracy: 0.8010 - loss: 0.4683 - val_accuracy: 0.8983 - val_loss: 0.2682\n",
            "Epoch 2/50\n",
            "217/217 - 12s - 54ms/step - accuracy: 0.8879 - loss: 0.2901 - val_accuracy: 0.9023 - val_loss: 0.2503\n",
            "Epoch 3/50\n",
            "217/217 - 10s - 46ms/step - accuracy: 0.8979 - loss: 0.2620 - val_accuracy: 0.9072 - val_loss: 0.2400\n",
            "Epoch 4/50\n",
            "217/217 - 8s - 38ms/step - accuracy: 0.9011 - loss: 0.2542 - val_accuracy: 0.9093 - val_loss: 0.2355\n",
            "Epoch 5/50\n",
            "217/217 - 10s - 48ms/step - accuracy: 0.9068 - loss: 0.2434 - val_accuracy: 0.9149 - val_loss: 0.2245\n",
            "Epoch 6/50\n",
            "217/217 - 10s - 48ms/step - accuracy: 0.9089 - loss: 0.2397 - val_accuracy: 0.9192 - val_loss: 0.2218\n",
            "Epoch 7/50\n",
            "217/217 - 18s - 85ms/step - accuracy: 0.9096 - loss: 0.2356 - val_accuracy: 0.9197 - val_loss: 0.2191\n",
            "Epoch 8/50\n",
            "217/217 - 12s - 55ms/step - accuracy: 0.9099 - loss: 0.2379 - val_accuracy: 0.9113 - val_loss: 0.2293\n",
            "Epoch 9/50\n",
            "217/217 - 10s - 47ms/step - accuracy: 0.9124 - loss: 0.2314 - val_accuracy: 0.9173 - val_loss: 0.2169\n",
            "Epoch 10/50\n",
            "217/217 - 21s - 95ms/step - accuracy: 0.9128 - loss: 0.2302 - val_accuracy: 0.9214 - val_loss: 0.2099\n",
            "Epoch 11/50\n",
            "217/217 - 20s - 93ms/step - accuracy: 0.9153 - loss: 0.2221 - val_accuracy: 0.9231 - val_loss: 0.2080\n",
            "Epoch 12/50\n",
            "217/217 - 8s - 37ms/step - accuracy: 0.9166 - loss: 0.2192 - val_accuracy: 0.9215 - val_loss: 0.2015\n",
            "Epoch 13/50\n",
            "217/217 - 11s - 52ms/step - accuracy: 0.9181 - loss: 0.2141 - val_accuracy: 0.9253 - val_loss: 0.1950\n",
            "Epoch 14/50\n",
            "217/217 - 11s - 51ms/step - accuracy: 0.9221 - loss: 0.2060 - val_accuracy: 0.9285 - val_loss: 0.1882\n",
            "Epoch 15/50\n",
            "217/217 - 10s - 46ms/step - accuracy: 0.9230 - loss: 0.2011 - val_accuracy: 0.9214 - val_loss: 0.2167\n",
            "Epoch 16/50\n",
            "217/217 - 10s - 46ms/step - accuracy: 0.9258 - loss: 0.1990 - val_accuracy: 0.9316 - val_loss: 0.1819\n",
            "Epoch 17/50\n",
            "217/217 - 11s - 49ms/step - accuracy: 0.9260 - loss: 0.1956 - val_accuracy: 0.9329 - val_loss: 0.1837\n",
            "Epoch 18/50\n",
            "217/217 - 11s - 50ms/step - accuracy: 0.9256 - loss: 0.1942 - val_accuracy: 0.9319 - val_loss: 0.1782\n",
            "Epoch 19/50\n",
            "217/217 - 19s - 88ms/step - accuracy: 0.9262 - loss: 0.1934 - val_accuracy: 0.9340 - val_loss: 0.1781\n",
            "Epoch 20/50\n",
            "217/217 - 10s - 45ms/step - accuracy: 0.9279 - loss: 0.1913 - val_accuracy: 0.9292 - val_loss: 0.1809\n",
            "Epoch 21/50\n",
            "217/217 - 8s - 36ms/step - accuracy: 0.9294 - loss: 0.1900 - val_accuracy: 0.9321 - val_loss: 0.1804\n",
            "Epoch 22/50\n",
            "217/217 - 10s - 47ms/step - accuracy: 0.9290 - loss: 0.1881 - val_accuracy: 0.9319 - val_loss: 0.1780\n",
            "Epoch 23/50\n",
            "217/217 - 10s - 45ms/step - accuracy: 0.9287 - loss: 0.1896 - val_accuracy: 0.9287 - val_loss: 0.1864\n",
            "Epoch 24/50\n",
            "217/217 - 8s - 36ms/step - accuracy: 0.9294 - loss: 0.1884 - val_accuracy: 0.9348 - val_loss: 0.1771\n",
            "Epoch 25/50\n",
            "217/217 - 11s - 52ms/step - accuracy: 0.9300 - loss: 0.1868 - val_accuracy: 0.9337 - val_loss: 0.1746\n",
            "Epoch 26/50\n",
            "217/217 - 10s - 45ms/step - accuracy: 0.9310 - loss: 0.1868 - val_accuracy: 0.9329 - val_loss: 0.1820\n",
            "Epoch 27/50\n",
            "217/217 - 8s - 37ms/step - accuracy: 0.9313 - loss: 0.1837 - val_accuracy: 0.9342 - val_loss: 0.1774\n",
            "Epoch 28/50\n",
            "217/217 - 10s - 45ms/step - accuracy: 0.9322 - loss: 0.1837 - val_accuracy: 0.9365 - val_loss: 0.1694\n",
            "Epoch 29/50\n",
            "217/217 - 11s - 50ms/step - accuracy: 0.9324 - loss: 0.1830 - val_accuracy: 0.9366 - val_loss: 0.1715\n",
            "Epoch 30/50\n",
            "217/217 - 18s - 84ms/step - accuracy: 0.9317 - loss: 0.1825 - val_accuracy: 0.9324 - val_loss: 0.1813\n",
            "Epoch 31/50\n",
            "217/217 - 11s - 53ms/step - accuracy: 0.9323 - loss: 0.1832 - val_accuracy: 0.9348 - val_loss: 0.1713\n",
            "Epoch 32/50\n",
            "217/217 - 10s - 47ms/step - accuracy: 0.9325 - loss: 0.1803 - val_accuracy: 0.9352 - val_loss: 0.1691\n",
            "Epoch 33/50\n",
            "217/217 - 9s - 40ms/step - accuracy: 0.9340 - loss: 0.1784 - val_accuracy: 0.9352 - val_loss: 0.1723\n",
            "Epoch 34/50\n",
            "217/217 - 11s - 52ms/step - accuracy: 0.9340 - loss: 0.1777 - val_accuracy: 0.9348 - val_loss: 0.1726\n",
            "Epoch 35/50\n",
            "217/217 - 17s - 79ms/step - accuracy: 0.9342 - loss: 0.1765 - val_accuracy: 0.9373 - val_loss: 0.1688\n",
            "Epoch 36/50\n",
            "217/217 - 12s - 53ms/step - accuracy: 0.9345 - loss: 0.1781 - val_accuracy: 0.9365 - val_loss: 0.1686\n",
            "Epoch 37/50\n",
            "217/217 - 11s - 50ms/step - accuracy: 0.9339 - loss: 0.1769 - val_accuracy: 0.9292 - val_loss: 0.1944\n",
            "Epoch 38/50\n",
            "217/217 - 9s - 43ms/step - accuracy: 0.9347 - loss: 0.1767 - val_accuracy: 0.9358 - val_loss: 0.1687\n",
            "Epoch 39/50\n",
            "217/217 - 9s - 40ms/step - accuracy: 0.9350 - loss: 0.1755 - val_accuracy: 0.9378 - val_loss: 0.1687\n",
            "Epoch 40/50\n",
            "217/217 - 11s - 52ms/step - accuracy: 0.9354 - loss: 0.1745 - val_accuracy: 0.9360 - val_loss: 0.1759\n",
            "Epoch 41/50\n",
            "217/217 - 10s - 45ms/step - accuracy: 0.9343 - loss: 0.1761 - val_accuracy: 0.9353 - val_loss: 0.1776\n",
            "Epoch 42/50\n",
            "217/217 - 9s - 40ms/step - accuracy: 0.9362 - loss: 0.1721 - val_accuracy: 0.9400 - val_loss: 0.1637\n",
            "Epoch 43/50\n",
            "217/217 - 12s - 54ms/step - accuracy: 0.9345 - loss: 0.1750 - val_accuracy: 0.9348 - val_loss: 0.1767\n",
            "Epoch 44/50\n",
            "217/217 - 11s - 51ms/step - accuracy: 0.9355 - loss: 0.1721 - val_accuracy: 0.9389 - val_loss: 0.1666\n",
            "Epoch 45/50\n",
            "217/217 - 8s - 39ms/step - accuracy: 0.9360 - loss: 0.1717 - val_accuracy: 0.9387 - val_loss: 0.1655\n",
            "Epoch 46/50\n",
            "217/217 - 10s - 44ms/step - accuracy: 0.9372 - loss: 0.1701 - val_accuracy: 0.9370 - val_loss: 0.1707\n",
            "Epoch 47/50\n",
            "217/217 - 10s - 46ms/step - accuracy: 0.9379 - loss: 0.1691 - val_accuracy: 0.9404 - val_loss: 0.1613\n",
            "Epoch 48/50\n",
            "217/217 - 8s - 37ms/step - accuracy: 0.9366 - loss: 0.1696 - val_accuracy: 0.9348 - val_loss: 0.1676\n",
            "Epoch 49/50\n",
            "217/217 - 10s - 46ms/step - accuracy: 0.9368 - loss: 0.1704 - val_accuracy: 0.9348 - val_loss: 0.1670\n",
            "Epoch 50/50\n",
            "217/217 - 10s - 46ms/step - accuracy: 0.9379 - loss: 0.1676 - val_accuracy: 0.9391 - val_loss: 0.1675\n"
          ]
        }
      ],
      "source": [
        "model.compile(optimizer='adam', loss='categorical_crossentropy', metrics=['accuracy'])\n",
        "\n",
        "history = model.fit(X_train, y_train, validation_data=(X_val, y_val), epochs=50, batch_size=256, verbose=2)"
      ]
    },
    {
      "cell_type": "code",
      "execution_count": 138,
      "metadata": {
        "id": "S-Goq8dMZchp",
        "colab": {
          "base_uri": "https://localhost:8080/"
        },
        "outputId": "86af688e-62a7-4116-ffd2-ee61e2c3b2e5"
      },
      "outputs": [
        {
          "output_type": "stream",
          "name": "stdout",
          "text": [
            "\u001b[1m481/481\u001b[0m \u001b[32m━━━━━━━━━━━━━━━━━━━━\u001b[0m\u001b[37m\u001b[0m \u001b[1m3s\u001b[0m 5ms/step\n",
            "CNN + LSTM Accuracy: 93.74%\n",
            "              precision    recall  f1-score   support\n",
            "\n",
            "  Empty Room       0.91      0.99      0.95      3797\n",
            "     Running       0.95      0.91      0.93      3923\n",
            "     Sitting       0.97      0.90      0.93      3859\n",
            "     Walking       0.93      0.95      0.94      3807\n",
            "\n",
            "    accuracy                           0.94     15386\n",
            "   macro avg       0.94      0.94      0.94     15386\n",
            "weighted avg       0.94      0.94      0.94     15386\n",
            "\n"
          ]
        }
      ],
      "source": [
        "y_pred = model.predict(X_test)\n",
        "y_pred_classes = np.argmax(y_pred, axis=1)\n",
        "y_test_classes = np.argmax(y_test, axis=1)\n",
        "\n",
        "accuracy = accuracy_score(y_test_classes, y_pred_classes)\n",
        "print(f'CNN + LSTM Accuracy: {accuracy * 100:.2f}%')\n",
        "print(classification_report(y_test_classes, y_pred_classes, target_names=label_encoder.classes_))"
      ]
    },
    {
      "cell_type": "code",
      "execution_count": 139,
      "metadata": {
        "id": "0E-mfry9bHyh",
        "colab": {
          "base_uri": "https://localhost:8080/",
          "height": 449
        },
        "outputId": "75d33372-50df-4b74-a809-7f5939f15e28"
      },
      "outputs": [
        {
          "output_type": "display_data",
          "data": {
            "text/plain": [
              "<Figure size 640x480 with 2 Axes>"
            ],
            "image/png": "[encoded data removed]"
          },
          "metadata": {}
        }
      ],
      "source": [
        "cm = confusion_matrix(y_test_classes, y_pred_classes)\n",
        "disp = ConfusionMatrixDisplay(confusion_matrix=cm)\n",
        "disp.plot()\n",
        "plt.show()"
      ]
    },
    {
      "cell_type": "code",
      "execution_count": 141,
      "metadata": {
        "id": "c38zCWvqZ2QW",
        "colab": {
          "base_uri": "https://localhost:8080/"
        },
        "outputId": "78f7fd6d-4cf9-4bf2-83b5-05687ab38ea1"
      },
      "outputs": [
        {
          "output_type": "stream",
          "name": "stdout",
          "text": [
            "[[[58.25]\n",
            "  [58.25]\n",
            "  [58.75]\n",
            "  ...\n",
            "  [58.75]\n",
            "  [58.75]\n",
            "  [58.5 ]]\n",
            "\n",
            " [[58.25]\n",
            "  [58.75]\n",
            "  [58.75]\n",
            "  ...\n",
            "  [58.75]\n",
            "  [58.5 ]\n",
            "  [58.  ]]\n",
            "\n",
            " [[58.75]\n",
            "  [58.75]\n",
            "  [58.  ]\n",
            "  ...\n",
            "  [58.5 ]\n",
            "  [58.  ]\n",
            "  [58.  ]]\n",
            "\n",
            " ...\n",
            "\n",
            " [[67.  ]\n",
            "  [67.  ]\n",
            "  [67.  ]\n",
            "  ...\n",
            "  [69.  ]\n",
            "  [65.  ]\n",
            "  [65.  ]]\n",
            "\n",
            " [[67.  ]\n",
            "  [67.  ]\n",
            "  [66.  ]\n",
            "  ...\n",
            "  [65.  ]\n",
            "  [65.  ]\n",
            "  [65.  ]]\n",
            "\n",
            " [[67.  ]\n",
            "  [66.  ]\n",
            "  [65.  ]\n",
            "  ...\n",
            "  [65.  ]\n",
            "  [65.  ]\n",
            "  [69.  ]]]\n"
          ]
        }
      ],
      "source": [
        "print(X_sequences)"
      ]
    },
    {
      "cell_type": "code",
      "source": [],
      "metadata": {
        "id": "UOgCdUXxtT9_"
      },
      "execution_count": null,
      "outputs": []
    }
  ],
  "metadata": {
    "colab": {
      "provenance": []
    },
    "kernelspec": {
      "display_name": "Python 3",
      "name": "python3"
    },
    "language_info": {
      "name": "python"
    }
  },
  "nbformat": 4,
  "nbformat_minor": 0
}